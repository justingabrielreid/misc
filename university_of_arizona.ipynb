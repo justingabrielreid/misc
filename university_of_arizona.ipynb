{
 "cells": [
  {
   "cell_type": "markdown",
   "metadata": {},
   "source": [
    "# Analyzing the Scorecard dataset for the University of Arizona"
   ]
  },
  {
   "cell_type": "code",
   "execution_count": 28,
   "metadata": {
    "collapsed": false
   },
   "outputs": [],
   "source": [
    "import pandas \n",
    "import numpy"
   ]
  },
  {
   "cell_type": "code",
   "execution_count": 29,
   "metadata": {
    "collapsed": false
   },
   "outputs": [
    {
     "data": {
      "text/html": [
       "<div style=\"max-height:1000px;max-width:1500px;overflow:auto;\">\n",
       "<table border=\"1\" class=\"dataframe\">\n",
       "  <thead>\n",
       "    <tr style=\"text-align: right;\">\n",
       "      <th></th>\n",
       "      <th>UNITID</th>\n",
       "      <th>OPEID</th>\n",
       "      <th>opeid6</th>\n",
       "      <th>INSTNM</th>\n",
       "      <th>CITY</th>\n",
       "      <th>STABBR</th>\n",
       "      <th>INSTURL</th>\n",
       "      <th>NPCURL</th>\n",
       "      <th>HCM2</th>\n",
       "      <th>PREDDEG</th>\n",
       "      <th>...</th>\n",
       "      <th>RET_PTL4</th>\n",
       "      <th>PCTFLOAN</th>\n",
       "      <th>UG25abv</th>\n",
       "      <th>GRAD_DEBT_MDN_SUPP</th>\n",
       "      <th>GRAD_DEBT_MDN10YR_SUPP</th>\n",
       "      <th>RPY_3YR_RT_SUPP</th>\n",
       "      <th>C150_4_POOLED_SUPP</th>\n",
       "      <th>C200_L4_POOLED_SUPP</th>\n",
       "      <th>md_earn_wne_p10</th>\n",
       "      <th>gt_25k_p6</th>\n",
       "    </tr>\n",
       "  </thead>\n",
       "  <tbody>\n",
       "    <tr>\n",
       "      <th>0</th>\n",
       "      <td> 100654</td>\n",
       "      <td>  100200</td>\n",
       "      <td>  1002</td>\n",
       "      <td>            Alabama A &amp; M University</td>\n",
       "      <td>     Normal</td>\n",
       "      <td> AL</td>\n",
       "      <td>                  www.aamu.edu/</td>\n",
       "      <td>    galileo.aamu.edu/netpricecalculator/npcalc.htm</td>\n",
       "      <td> 0</td>\n",
       "      <td> 3</td>\n",
       "      <td>...</td>\n",
       "      <td>NaN</td>\n",
       "      <td> 0.8204</td>\n",
       "      <td> 0.1049</td>\n",
       "      <td>           33611.5</td>\n",
       "      <td>       373.1565536</td>\n",
       "      <td>  0.44471387</td>\n",
       "      <td>       0.308718313</td>\n",
       "      <td> NaN</td>\n",
       "      <td> 31400</td>\n",
       "      <td> 0.46229803562164</td>\n",
       "    </tr>\n",
       "    <tr>\n",
       "      <th>1</th>\n",
       "      <td> 100663</td>\n",
       "      <td>  105200</td>\n",
       "      <td>  1052</td>\n",
       "      <td> University of Alabama at Birmingham</td>\n",
       "      <td> Birmingham</td>\n",
       "      <td> AL</td>\n",
       "      <td>                    www.uab.edu</td>\n",
       "      <td>   www.collegeportraits.org/AL/UAB/estimator/agree</td>\n",
       "      <td> 0</td>\n",
       "      <td> 3</td>\n",
       "      <td>...</td>\n",
       "      <td>NaN</td>\n",
       "      <td> 0.5397</td>\n",
       "      <td> 0.2422</td>\n",
       "      <td>             23117</td>\n",
       "      <td>       256.6460899</td>\n",
       "      <td> 0.756266667</td>\n",
       "      <td>       0.508549808</td>\n",
       "      <td> NaN</td>\n",
       "      <td> 40300</td>\n",
       "      <td> 0.66048449277877</td>\n",
       "    </tr>\n",
       "    <tr>\n",
       "      <th>2</th>\n",
       "      <td> 100690</td>\n",
       "      <td> 2503400</td>\n",
       "      <td> 25034</td>\n",
       "      <td>                  Amridge University</td>\n",
       "      <td> Montgomery</td>\n",
       "      <td> AL</td>\n",
       "      <td>      www.amridgeuniversity.edu</td>\n",
       "      <td> tcc.noellevitz.com/(S(miwoihs5stz5cpyifh4nczu0...</td>\n",
       "      <td> 0</td>\n",
       "      <td> 3</td>\n",
       "      <td>...</td>\n",
       "      <td>NaN</td>\n",
       "      <td> 0.7629</td>\n",
       "      <td> 0.8540</td>\n",
       "      <td> PrivacySuppressed</td>\n",
       "      <td> PrivacySuppressed</td>\n",
       "      <td> 0.647249191</td>\n",
       "      <td> PrivacySuppressed</td>\n",
       "      <td> NaN</td>\n",
       "      <td> 38100</td>\n",
       "      <td> 0.64666664600372</td>\n",
       "    </tr>\n",
       "    <tr>\n",
       "      <th>3</th>\n",
       "      <td> 100706</td>\n",
       "      <td>  105500</td>\n",
       "      <td>  1055</td>\n",
       "      <td> University of Alabama in Huntsville</td>\n",
       "      <td> Huntsville</td>\n",
       "      <td> AL</td>\n",
       "      <td>                    www.uah.edu</td>\n",
       "      <td>                                   finaid.uah.edu/</td>\n",
       "      <td> 0</td>\n",
       "      <td> 3</td>\n",
       "      <td>...</td>\n",
       "      <td>NaN</td>\n",
       "      <td> 0.4728</td>\n",
       "      <td> 0.2640</td>\n",
       "      <td>             24738</td>\n",
       "      <td>       274.6425129</td>\n",
       "      <td> 0.781997919</td>\n",
       "      <td>       0.478211346</td>\n",
       "      <td> NaN</td>\n",
       "      <td> 46600</td>\n",
       "      <td>  0.6605657339096</td>\n",
       "    </tr>\n",
       "    <tr>\n",
       "      <th>4</th>\n",
       "      <td> 100724</td>\n",
       "      <td>  100500</td>\n",
       "      <td>  1005</td>\n",
       "      <td>            Alabama State University</td>\n",
       "      <td> Montgomery</td>\n",
       "      <td> AL</td>\n",
       "      <td> www.alasu.edu/email/index.aspx</td>\n",
       "      <td> www.alasu.edu/cost-aid/forms/calculator/index....</td>\n",
       "      <td> 0</td>\n",
       "      <td> 3</td>\n",
       "      <td>...</td>\n",
       "      <td>NaN</td>\n",
       "      <td> 0.8735</td>\n",
       "      <td> 0.1270</td>\n",
       "      <td>             33452</td>\n",
       "      <td>       371.3857766</td>\n",
       "      <td> 0.331198862</td>\n",
       "      <td>       0.257481955</td>\n",
       "      <td> NaN</td>\n",
       "      <td> 27800</td>\n",
       "      <td> 0.34222561120986</td>\n",
       "    </tr>\n",
       "  </tbody>\n",
       "</table>\n",
       "<p>5 rows × 123 columns</p>\n",
       "</div>"
      ],
      "text/plain": [
       "   UNITID    OPEID  opeid6                               INSTNM        CITY  \\\n",
       "0  100654   100200    1002             Alabama A & M University      Normal   \n",
       "1  100663   105200    1052  University of Alabama at Birmingham  Birmingham   \n",
       "2  100690  2503400   25034                   Amridge University  Montgomery   \n",
       "3  100706   105500    1055  University of Alabama in Huntsville  Huntsville   \n",
       "4  100724   100500    1005             Alabama State University  Montgomery   \n",
       "\n",
       "  STABBR                         INSTURL  \\\n",
       "0     AL                   www.aamu.edu/   \n",
       "1     AL                     www.uab.edu   \n",
       "2     AL       www.amridgeuniversity.edu   \n",
       "3     AL                     www.uah.edu   \n",
       "4     AL  www.alasu.edu/email/index.aspx   \n",
       "\n",
       "                                              NPCURL  HCM2  PREDDEG  \\\n",
       "0     galileo.aamu.edu/netpricecalculator/npcalc.htm     0        3   \n",
       "1    www.collegeportraits.org/AL/UAB/estimator/agree     0        3   \n",
       "2  tcc.noellevitz.com/(S(miwoihs5stz5cpyifh4nczu0...     0        3   \n",
       "3                                    finaid.uah.edu/     0        3   \n",
       "4  www.alasu.edu/cost-aid/forms/calculator/index....     0        3   \n",
       "\n",
       "         ...         RET_PTL4  PCTFLOAN  UG25abv  GRAD_DEBT_MDN_SUPP  \\\n",
       "0        ...              NaN    0.8204   0.1049             33611.5   \n",
       "1        ...              NaN    0.5397   0.2422               23117   \n",
       "2        ...              NaN    0.7629   0.8540   PrivacySuppressed   \n",
       "3        ...              NaN    0.4728   0.2640               24738   \n",
       "4        ...              NaN    0.8735   0.1270               33452   \n",
       "\n",
       "   GRAD_DEBT_MDN10YR_SUPP  RPY_3YR_RT_SUPP  C150_4_POOLED_SUPP  \\\n",
       "0             373.1565536       0.44471387         0.308718313   \n",
       "1             256.6460899      0.756266667         0.508549808   \n",
       "2       PrivacySuppressed      0.647249191   PrivacySuppressed   \n",
       "3             274.6425129      0.781997919         0.478211346   \n",
       "4             371.3857766      0.331198862         0.257481955   \n",
       "\n",
       "   C200_L4_POOLED_SUPP  md_earn_wne_p10         gt_25k_p6  \n",
       "0                  NaN            31400  0.46229803562164  \n",
       "1                  NaN            40300  0.66048449277877  \n",
       "2                  NaN            38100  0.64666664600372  \n",
       "3                  NaN            46600   0.6605657339096  \n",
       "4                  NaN            27800  0.34222561120986  \n",
       "\n",
       "[5 rows x 123 columns]"
      ]
     },
     "execution_count": 29,
     "metadata": {},
     "output_type": "execute_result"
    }
   ],
   "source": [
    "scorecard = pandas.read_csv('Most-Recent-Cohorts-Scorecard-Elements.csv')\n",
    "scorecard.head(5)"
   ]
  },
  {
   "cell_type": "code",
   "execution_count": 30,
   "metadata": {
    "collapsed": false
   },
   "outputs": [
    {
     "data": {
      "text/html": [
       "<div style=\"max-height:1000px;max-width:1500px;overflow:auto;\">\n",
       "<table border=\"1\" class=\"dataframe\">\n",
       "  <thead>\n",
       "    <tr style=\"text-align: right;\">\n",
       "      <th></th>\n",
       "      <th>UNITID</th>\n",
       "      <th>OPEID</th>\n",
       "      <th>opeid6</th>\n",
       "      <th>INSTNM</th>\n",
       "      <th>CITY</th>\n",
       "      <th>STABBR</th>\n",
       "      <th>INSTURL</th>\n",
       "      <th>NPCURL</th>\n",
       "      <th>HCM2</th>\n",
       "      <th>PREDDEG</th>\n",
       "      <th>...</th>\n",
       "      <th>RET_PTL4</th>\n",
       "      <th>PCTFLOAN</th>\n",
       "      <th>UG25abv</th>\n",
       "      <th>GRAD_DEBT_MDN_SUPP</th>\n",
       "      <th>GRAD_DEBT_MDN10YR_SUPP</th>\n",
       "      <th>RPY_3YR_RT_SUPP</th>\n",
       "      <th>C150_4_POOLED_SUPP</th>\n",
       "      <th>C200_L4_POOLED_SUPP</th>\n",
       "      <th>md_earn_wne_p10</th>\n",
       "      <th>gt_25k_p6</th>\n",
       "    </tr>\n",
       "  </thead>\n",
       "  <tbody>\n",
       "    <tr>\n",
       "      <th>91</th>\n",
       "      <td> 104179</td>\n",
       "      <td> 108300</td>\n",
       "      <td> 1083</td>\n",
       "      <td> University of Arizona</td>\n",
       "      <td> Tucson</td>\n",
       "      <td> AZ</td>\n",
       "      <td> www.arizona.edu</td>\n",
       "      <td> oirps.arizona.edu/npc.html</td>\n",
       "      <td> 0</td>\n",
       "      <td> 3</td>\n",
       "      <td>...</td>\n",
       "      <td>NaN</td>\n",
       "      <td> 0.3962</td>\n",
       "      <td> 0.091</td>\n",
       "      <td> 19000</td>\n",
       "      <td> 210.93895</td>\n",
       "      <td> 0.832651333</td>\n",
       "      <td> 0.613370272</td>\n",
       "      <td> NaN</td>\n",
       "      <td> 44400</td>\n",
       "      <td> 0.67178428173065</td>\n",
       "    </tr>\n",
       "  </tbody>\n",
       "</table>\n",
       "<p>1 rows × 123 columns</p>\n",
       "</div>"
      ],
      "text/plain": [
       "    UNITID   OPEID  opeid6                 INSTNM    CITY STABBR  \\\n",
       "91  104179  108300    1083  University of Arizona  Tucson     AZ   \n",
       "\n",
       "            INSTURL                      NPCURL  HCM2  PREDDEG  \\\n",
       "91  www.arizona.edu  oirps.arizona.edu/npc.html     0        3   \n",
       "\n",
       "          ...         RET_PTL4  PCTFLOAN  UG25abv  GRAD_DEBT_MDN_SUPP  \\\n",
       "91        ...              NaN    0.3962    0.091               19000   \n",
       "\n",
       "    GRAD_DEBT_MDN10YR_SUPP  RPY_3YR_RT_SUPP  C150_4_POOLED_SUPP  \\\n",
       "91               210.93895      0.832651333         0.613370272   \n",
       "\n",
       "    C200_L4_POOLED_SUPP  md_earn_wne_p10         gt_25k_p6  \n",
       "91                  NaN            44400  0.67178428173065  \n",
       "\n",
       "[1 rows x 123 columns]"
      ]
     },
     "execution_count": 30,
     "metadata": {},
     "output_type": "execute_result"
    }
   ],
   "source": [
    "#selecting the University of Arizona \n",
    "Name_of_schools = scorecard['INSTNM']\n",
    "uofa = Name_of_schools == 'University of Arizona'\n",
    "arizona = scorecard[uofa]\n",
    "arizona.head(5)"
   ]
  },
  {
   "cell_type": "code",
   "execution_count": 31,
   "metadata": {
    "collapsed": false
   },
   "outputs": [
    {
     "name": "stdout",
     "output_type": "stream",
     "text": [
      "91    31399\n",
      "Name: UGDS, dtype: float64\n"
     ]
    }
   ],
   "source": [
    "#Want to look at the number of Undergraduate Students \n",
    "undergrads = arizona['UGDS']\n",
    "print (undergrads)"
   ]
  },
  {
   "cell_type": "code",
   "execution_count": 32,
   "metadata": {
    "collapsed": false
   },
   "outputs": [
    {
     "name": "stdout",
     "output_type": "stream",
     "text": [
      "['UNITID', 'OPEID', 'opeid6', 'INSTNM', 'CITY', 'STABBR', 'INSTURL', 'NPCURL', 'HCM2', 'PREDDEG', 'HIGHDEG', 'CONTROL', 'LOCALE', 'HBCU', 'PBI', 'ANNHI', 'TRIBAL', 'AANAPII', 'HSI', 'NANTI', 'MENONLY', 'WOMENONLY', 'RELAFFIL', 'SATVR25', 'SATVR75', 'SATMT25', 'SATMT75', 'SATWR25', 'SATWR75', 'SATVRMID', 'SATMTMID', 'SATWRMID', 'ACTCM25', 'ACTCM75', 'ACTEN25', 'ACTEN75', 'ACTMT25', 'ACTMT75', 'ACTWR25', 'ACTWR75', 'ACTCMMID', 'ACTENMID', 'ACTMTMID', 'ACTWRMID', 'SAT_AVG', 'SAT_AVG_ALL', 'PCIP01', 'PCIP03', 'PCIP04', 'PCIP05', 'PCIP09', 'PCIP10', 'PCIP11', 'PCIP12', 'PCIP13', 'PCIP14', 'PCIP15', 'PCIP16', 'PCIP19', 'PCIP22', 'PCIP23', 'PCIP24', 'PCIP25', 'PCIP26', 'PCIP27', 'PCIP29', 'PCIP30', 'PCIP31', 'PCIP38', 'PCIP39', 'PCIP40', 'PCIP41', 'PCIP42', 'PCIP43', 'PCIP44', 'PCIP45', 'PCIP46', 'PCIP47', 'PCIP48', 'PCIP49', 'PCIP50', 'PCIP51', 'PCIP52', 'PCIP54', 'DISTANCEONLY', 'UGDS', 'UGDS_WHITE', 'UGDS_BLACK', 'UGDS_HISP', 'UGDS_ASIAN', 'UGDS_AIAN', 'UGDS_NHPI', 'UGDS_2MOR', 'UGDS_NRA', 'UGDS_UNKN', 'PPTUG_EF', 'CURROPER', 'NPT4_PUB', 'NPT4_PRIV', 'NPT41_PUB', 'NPT42_PUB', 'NPT43_PUB', 'NPT44_PUB', 'NPT45_PUB', 'NPT41_PRIV', 'NPT42_PRIV', 'NPT43_PRIV', 'NPT44_PRIV', 'NPT45_PRIV', 'PCTPELL', 'RET_FT4', 'RET_FTL4', 'RET_PT4', 'RET_PTL4', 'PCTFLOAN', 'UG25abv', 'GRAD_DEBT_MDN_SUPP', 'GRAD_DEBT_MDN10YR_SUPP', 'RPY_3YR_RT_SUPP', 'C150_4_POOLED_SUPP', 'C200_L4_POOLED_SUPP', 'md_earn_wne_p10', 'gt_25k_p6']\n"
     ]
    }
   ],
   "source": [
    "#How does the school breakdown by race?\n",
    "column_names = list(arizona.columns)\n",
    "print (column_names)"
   ]
  },
  {
   "cell_type": "code",
   "execution_count": 33,
   "metadata": {
    "collapsed": false
   },
   "outputs": [
    {
     "data": {
      "text/html": [
       "<div style=\"max-height:1000px;max-width:1500px;overflow:auto;\">\n",
       "<table border=\"1\" class=\"dataframe\">\n",
       "  <thead>\n",
       "    <tr style=\"text-align: right;\">\n",
       "      <th></th>\n",
       "      <th>UGDS_WHITE</th>\n",
       "      <th>UGDS_BLACK</th>\n",
       "      <th>UGDS_HISP</th>\n",
       "      <th>UGDS_ASIAN</th>\n",
       "      <th>UGDS_AIAN</th>\n",
       "      <th>UGDS_NHPI</th>\n",
       "      <th>UGDS_2MOR</th>\n",
       "      <th>UGDS_NRA</th>\n",
       "    </tr>\n",
       "  </thead>\n",
       "  <tbody>\n",
       "    <tr>\n",
       "      <th>91</th>\n",
       "      <td> 0.5464</td>\n",
       "      <td> 0.0333</td>\n",
       "      <td> 0.2444</td>\n",
       "      <td> 0.0561</td>\n",
       "      <td> 0.0106</td>\n",
       "      <td> 0.0021</td>\n",
       "      <td> 0.0417</td>\n",
       "      <td> 0.055</td>\n",
       "    </tr>\n",
       "  </tbody>\n",
       "</table>\n",
       "</div>"
      ],
      "text/plain": [
       "    UGDS_WHITE  UGDS_BLACK  UGDS_HISP  UGDS_ASIAN  UGDS_AIAN  UGDS_NHPI  \\\n",
       "91      0.5464      0.0333     0.2444      0.0561     0.0106     0.0021   \n",
       "\n",
       "    UGDS_2MOR  UGDS_NRA  \n",
       "91     0.0417     0.055  "
      ]
     },
     "execution_count": 33,
     "metadata": {},
     "output_type": "execute_result"
    }
   ],
   "source": [
    "#Create a DataFrame with the breakdown of the demographics\n",
    "race_breakdown_of_AZ = arizona[column_names[86:94]]\n",
    "race_breakdown_of_AZ"
   ]
  },
  {
   "cell_type": "code",
   "execution_count": 34,
   "metadata": {
    "collapsed": false
   },
   "outputs": [],
   "source": [
    "#Transpose the data frome for better access to the data\n",
    "race_breakdown_of_AZ = race_breakdown_of_AZ.transpose()"
   ]
  },
  {
   "cell_type": "code",
   "execution_count": 35,
   "metadata": {
    "collapsed": false
   },
   "outputs": [
    {
     "data": {
      "text/html": [
       "<div style=\"max-height:1000px;max-width:1500px;overflow:auto;\">\n",
       "<table border=\"1\" class=\"dataframe\">\n",
       "  <thead>\n",
       "    <tr style=\"text-align: right;\">\n",
       "      <th></th>\n",
       "      <th>91</th>\n",
       "    </tr>\n",
       "  </thead>\n",
       "  <tbody>\n",
       "    <tr>\n",
       "      <th>UGDS_WHITE</th>\n",
       "      <td> 0.5464</td>\n",
       "    </tr>\n",
       "    <tr>\n",
       "      <th>UGDS_BLACK</th>\n",
       "      <td> 0.0333</td>\n",
       "    </tr>\n",
       "    <tr>\n",
       "      <th>UGDS_HISP</th>\n",
       "      <td> 0.2444</td>\n",
       "    </tr>\n",
       "    <tr>\n",
       "      <th>UGDS_ASIAN</th>\n",
       "      <td> 0.0561</td>\n",
       "    </tr>\n",
       "    <tr>\n",
       "      <th>UGDS_AIAN</th>\n",
       "      <td> 0.0106</td>\n",
       "    </tr>\n",
       "    <tr>\n",
       "      <th>UGDS_NHPI</th>\n",
       "      <td> 0.0021</td>\n",
       "    </tr>\n",
       "    <tr>\n",
       "      <th>UGDS_2MOR</th>\n",
       "      <td> 0.0417</td>\n",
       "    </tr>\n",
       "    <tr>\n",
       "      <th>UGDS_NRA</th>\n",
       "      <td> 0.0550</td>\n",
       "    </tr>\n",
       "  </tbody>\n",
       "</table>\n",
       "</div>"
      ],
      "text/plain": [
       "                91\n",
       "UGDS_WHITE  0.5464\n",
       "UGDS_BLACK  0.0333\n",
       "UGDS_HISP   0.2444\n",
       "UGDS_ASIAN  0.0561\n",
       "UGDS_AIAN   0.0106\n",
       "UGDS_NHPI   0.0021\n",
       "UGDS_2MOR   0.0417\n",
       "UGDS_NRA    0.0550"
      ]
     },
     "execution_count": 35,
     "metadata": {},
     "output_type": "execute_result"
    }
   ],
   "source": [
    "race_breakdown_of_AZ"
   ]
  },
  {
   "cell_type": "code",
   "execution_count": 36,
   "metadata": {
    "collapsed": false
   },
   "outputs": [],
   "source": [
    "#rename the column of the DataFrame \n",
    "race_breakdown_of_AZ.columns = ['Percentage']"
   ]
  },
  {
   "cell_type": "code",
   "execution_count": 37,
   "metadata": {
    "collapsed": false
   },
   "outputs": [],
   "source": [
    "#now get a column that has the total number of students for each demographic\n",
    "race_breakdown_of_AZ['Total Students']= undergrads[91]*race_breakdown_of_AZ\n"
   ]
  },
  {
   "cell_type": "code",
   "execution_count": 38,
   "metadata": {
    "collapsed": false
   },
   "outputs": [
    {
     "data": {
      "text/html": [
       "<div style=\"max-height:1000px;max-width:1500px;overflow:auto;\">\n",
       "<table border=\"1\" class=\"dataframe\">\n",
       "  <thead>\n",
       "    <tr style=\"text-align: right;\">\n",
       "      <th></th>\n",
       "      <th>Percentage</th>\n",
       "      <th>Total Students</th>\n",
       "    </tr>\n",
       "  </thead>\n",
       "  <tbody>\n",
       "    <tr>\n",
       "      <th>UGDS_WHITE</th>\n",
       "      <td> 0.5464</td>\n",
       "      <td> 17156.4136</td>\n",
       "    </tr>\n",
       "    <tr>\n",
       "      <th>UGDS_BLACK</th>\n",
       "      <td> 0.0333</td>\n",
       "      <td>  1045.5867</td>\n",
       "    </tr>\n",
       "    <tr>\n",
       "      <th>UGDS_HISP</th>\n",
       "      <td> 0.2444</td>\n",
       "      <td>  7673.9156</td>\n",
       "    </tr>\n",
       "    <tr>\n",
       "      <th>UGDS_ASIAN</th>\n",
       "      <td> 0.0561</td>\n",
       "      <td>  1761.4839</td>\n",
       "    </tr>\n",
       "    <tr>\n",
       "      <th>UGDS_AIAN</th>\n",
       "      <td> 0.0106</td>\n",
       "      <td>   332.8294</td>\n",
       "    </tr>\n",
       "    <tr>\n",
       "      <th>UGDS_NHPI</th>\n",
       "      <td> 0.0021</td>\n",
       "      <td>    65.9379</td>\n",
       "    </tr>\n",
       "    <tr>\n",
       "      <th>UGDS_2MOR</th>\n",
       "      <td> 0.0417</td>\n",
       "      <td>  1309.3383</td>\n",
       "    </tr>\n",
       "    <tr>\n",
       "      <th>UGDS_NRA</th>\n",
       "      <td> 0.0550</td>\n",
       "      <td>  1726.9450</td>\n",
       "    </tr>\n",
       "  </tbody>\n",
       "</table>\n",
       "</div>"
      ],
      "text/plain": [
       "            Percentage  Total Students\n",
       "UGDS_WHITE      0.5464      17156.4136\n",
       "UGDS_BLACK      0.0333       1045.5867\n",
       "UGDS_HISP       0.2444       7673.9156\n",
       "UGDS_ASIAN      0.0561       1761.4839\n",
       "UGDS_AIAN       0.0106        332.8294\n",
       "UGDS_NHPI       0.0021         65.9379\n",
       "UGDS_2MOR       0.0417       1309.3383\n",
       "UGDS_NRA        0.0550       1726.9450"
      ]
     },
     "execution_count": 38,
     "metadata": {},
     "output_type": "execute_result"
    }
   ],
   "source": [
    "race_breakdown_of_AZ"
   ]
  },
  {
   "cell_type": "code",
   "execution_count": 39,
   "metadata": {
    "collapsed": false
   },
   "outputs": [
    {
     "data": {
      "text/plain": [
       "<matplotlib.axes._subplots.AxesSubplot at 0x7f69b321d810>"
      ]
     },
     "execution_count": 39,
     "metadata": {},
     "output_type": "execute_result"
    },
    {
     "data": {
      "image/png": "[encoded data removed]",
      "text/plain": [
       "<matplotlib.figure.Figure at 0x7f69b48c8650>"
      ]
     },
     "metadata": {},
     "output_type": "display_data"
    }
   ],
   "source": [
    "import matplotlib\n",
    "%matplotlib inline\n",
    "race_breakdown_of_AZ['Percentage'].plot(kind='bar')"
   ]
  },
  {
   "cell_type": "code",
   "execution_count": 39,
   "metadata": {
    "collapsed": false
   },
   "outputs": [],
   "source": []
  }
 ],
 "metadata": {
  "kernelspec": {
   "display_name": "Python 3",
   "language": "python",
   "name": "python3"
  },
  "language_info": {
   "codemirror_mode": {
    "name": "ipython",
    "version": 3
   },
   "file_extension": ".py",
   "mimetype": "text/x-python",
   "name": "python",
   "nbconvert_exporter": "python",
   "pygments_lexer": "ipython3",
   "version": "3.5.1"
  }
 },
 "nbformat": 4,
 "nbformat_minor": 0
}
